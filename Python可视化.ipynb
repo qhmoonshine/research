{
 "cells": [
  {
   "cell_type": "code",
   "execution_count": null,
   "metadata": {
    "collapsed": true
   },
   "outputs": [],
   "source": [
    "# 饼图的绘制\n",
    "# 导入第三方模块\n",
    "import matplotlib.pyplot as plt\n",
    "\n",
    "# 构造数据\n",
    "edu = [0.2515,0.3724,0.3336,0.0368,0.0057]\n",
    "labels = ['中专','大专','本科','硕士','其他']\n",
    "\n",
    "# 绘制饼图\n",
    "plt.pie(x = edu, # 绘图数据\n",
    "        labels=labels, # 添加教育水平标签\n",
    "        autopct='%.1f%%' # 设置百分比的格式，这里保留一位小数\n",
    "       )\n",
    "# 添加图标题\n",
    "plt.title('失信用户的教育水平分布')\n",
    "# 显示图形\n",
    "plt.show()"
   ]
  },
  {
   "cell_type": "code",
   "execution_count": null,
   "metadata": {
    "collapsed": true
   },
   "outputs": [],
   "source": [
    "# 添加修饰的饼图 \n",
    "explode = [0,0.1,0,0,0]  # 生成数据，用于突出显示大专学历人群\n",
    "colors=['#9999ff','#ff9999','#7777aa','#2442aa','#dd5555']  # 自定义颜色\n",
    "\n",
    "# 中文乱码和坐标轴负号的处理\n",
    "plt.rcParams['font.sans-serif'] = ['Microsoft YaHei']\n",
    "plt.rcParams['axes.unicode_minus'] = False\n",
    "\n",
    "# 将横、纵坐标轴标准化处理，确保饼图是一个正圆，否则为椭圆\n",
    "plt.axes(aspect='equal')\n",
    "# 绘制饼图\n",
    "plt.pie(x = edu, # 绘图数据\n",
    "        explode=explode, # 突出显示大专人群\n",
    "        labels=labels, # 添加教育水平标签\n",
    "        colors=colors, # 设置饼图的自定义填充色\n",
    "        autopct='%.1f%%', # 设置百分比的格式，这里保留一位小数\n",
    "        pctdistance=0.8,  # 设置百分比标签与圆心的距离\n",
    "        labeldistance = 1.1, # 设置教育水平标签与圆心的距离\n",
    "        startangle = 180, # 设置饼图的初始角度\n",
    "        radius = 1.2, # 设置饼图的半径\n",
    "        counterclock = False, # 是否逆时针，这里设置为顺时针方向\n",
    "        wedgeprops = {'linewidth': 1.5, 'edgecolor':'green'},# 设置饼图内外边界的属性值\n",
    "        textprops = {'fontsize':10, 'color':'black'}, # 设置文本标签的属性值\n",
    "        )\n",
    "\n",
    "# 添加图标题\n",
    "plt.title('失信用户的受教育水平分布')\n",
    "# 显示图形\n",
    "plt.show()"
   ]
  },
  {
   "cell_type": "code",
   "execution_count": null,
   "metadata": {
    "collapsed": false
   },
   "outputs": [],
   "source": [
    "# 导入第三方模块\n",
    "import pandas as pd\n",
    "# 构建序列\n",
    "data1 = pd.Series({'中专':0.2515,'大专':0.3724,'本科':0.3336,'硕士':0.0368,'其他':0.0057})\n",
    "# 将序列的名称设置为空字符，否则绘制的饼图左边会出现None这样的字眼\n",
    "data1.name = ''\n",
    "# 控制饼图为正圆\n",
    "plt.axes(aspect = 'equal')\n",
    "# plot方法对序列进行绘图\n",
    "data1.plot(kind = 'pie', # 选择图形类型\n",
    "           autopct='%.1f%%', # 饼图中添加数值标签\n",
    "           radius = 1, # 设置饼图的半径\n",
    "           startangle = 180, # 设置饼图的初始角度\n",
    "           counterclock = False, # 将饼图的顺序设置为顺时针方向\n",
    "           title = '失信用户的受教育水平分布', # 为饼图添加标题\n",
    "           wedgeprops = {'linewidth': 1.5, 'edgecolor':'green'}, # 设置饼图内外边界的属性值\n",
    "           textprops = {'fontsize':10, 'color':'black'} # 设置文本标签的属性值\n",
    "          )\n",
    "# 显示图形\n",
    "plt.show()"
   ]
  },
  {
   "cell_type": "code",
   "execution_count": null,
   "metadata": {
    "collapsed": false
   },
   "outputs": [],
   "source": [
    "# 条形图的绘制--垂直条形图\n",
    "# 读入数据\n",
    "GDP = pd.read_excel(r'C:\\Users\\Administrator\\Desktop\\Province GDP 2017.xlsx')\n",
    "# 设置绘图风格（不妨使用R语言中的ggplot2风格）\n",
    "plt.style.use('ggplot')\n",
    "# 绘制条形图\n",
    "plt.bar(left = range(GDP.shape[0]), # 指定条形图x轴的刻度值\n",
    "        height = GDP.GDP, # 指定条形图y轴的数值\n",
    "        tick_label = GDP.Province, # 指定条形图x轴的刻度标签\n",
    "        color = 'steelblue', # 指定条形图的填充色\n",
    "       )\n",
    "# 添加y轴的标签\n",
    "plt.ylabel('GDP(万亿)')\n",
    "# 添加条形图的标题\n",
    "plt.title('2017年度6个省份GDP分布')\n",
    "# 为每个条形图添加数值标签\n",
    "for x,y in enumerate(GDP.GDP):\n",
    "    plt.text(x,y+0.1,'%s' %round(y,1),ha='center')\n",
    "# 显示图形    \n",
    "plt.show()"
   ]
  },
  {
   "cell_type": "code",
   "execution_count": null,
   "metadata": {
    "collapsed": false
   },
   "outputs": [],
   "source": [
    "# 条形图的绘制--水平条形图\n",
    "# 对读入的数据作升序排序\n",
    "GDP.sort_values(by = 'GDP', inplace = True)\n",
    "# 绘制条形图\n",
    "plt.barh(bottom = range(GDP.shape[0]), # 指定条形图y轴的刻度值\n",
    "        width = GDP.GDP, # 指定条形图x轴的数值\n",
    "        tick_label = GDP.Province, # 指定条形图y轴的刻度标签\n",
    "        color = 'steelblue', # 指定条形图的填充色\n",
    "       )\n",
    "# 添加x轴的标签\n",
    "plt.xlabel('GDP(万亿)')\n",
    "# 添加条形图的标题\n",
    "plt.title('2017年度6个省份GDP分布')\n",
    "# 为每个条形图添加数值标签\n",
    "for y,x in enumerate(GDP.GDP):\n",
    "    plt.text(x+0.1,y,'%s' %round(x,1),va='center')\n",
    "# 显示图形    \n",
    "plt.show()"
   ]
  },
  {
   "cell_type": "code",
   "execution_count": null,
   "metadata": {
    "collapsed": false
   },
   "outputs": [],
   "source": [
    "# 条形图的绘制--堆叠条形图\n",
    "# 读入数据\n",
    "Industry_GDP = pd.read_excel(r'C:\\Users\\Administrator\\Desktop\\Industry_GDP.xlsx')\n",
    "# 取出四个不同的季度标签，用作堆叠条形图x轴的刻度标签\n",
    "Quarters = Industry_GDP.Quarter.unique()\n",
    "# 取出第一产业的四季度值\n",
    "Industry1 = Industry_GDP.GPD[Industry_GDP.Industry_Type == '第一产业']\n",
    "# 重新设置行索引\n",
    "Industry1.index = range(len(Quarters))\n",
    "# 取出第二产业的四季度值\n",
    "Industry2 = Industry_GDP.GPD[Industry_GDP.Industry_Type == '第二产业']\n",
    "# 重新设置行索引\n",
    "Industry2.index = range(len(Quarters))\n",
    "# 取出第三产业的四季度值\n",
    "Industry3 = Industry_GDP.GPD[Industry_GDP.Industry_Type == '第三产业']\n",
    "\n",
    "# 绘制堆叠条形图\n",
    "# 各季度下第一产业的条形图\n",
    "plt.bar(left = range(len(Quarters)), height=Industry1, color = 'steelblue', label = '第一产业', tick_label = Quarters)\n",
    "# 各季度下第二产业的条形图\n",
    "plt.bar(left = range(len(Quarters)), height=Industry2, bottom = Industry1, color = 'green', label = '第二产业')\n",
    "# 各季度下第三产业的条形图\n",
    "plt.bar(left = range(len(Quarters)), height=Industry3, bottom = Industry1  + Industry2, color = 'red', label = '第三产业')\n",
    "# 添加y轴标签\n",
    "plt.ylabel('生成总值（亿）')\n",
    "# 添加图形标题\n",
    "plt.title('2017年各季度三产业总值')\n",
    "# 显示各产业的图例\n",
    "plt.legend()\n",
    "# 显示图形\n",
    "plt.show()"
   ]
  },
  {
   "cell_type": "code",
   "execution_count": null,
   "metadata": {
    "collapsed": false
   },
   "outputs": [],
   "source": [
    "# 条形图的绘制--水平交错条形图\n",
    "# 导入第三方模块\n",
    "import numpy as np\n",
    "# 读入数据\n",
    "HuRun = pd.read_excel(r'C:\\Users\\Administrator\\Desktop\\HuRun.xlsx')\n",
    "# 取出城市名称\n",
    "Cities = HuRun.City.unique()\n",
    "# 取出2016年各城市亿万资产家庭数\n",
    "Counts2016 = HuRun.Counts[HuRun.Year == 2016]\n",
    "# 取出2017年各城市亿万资产家庭数\n",
    "Counts2017 = HuRun.Counts[HuRun.Year == 2017]\n",
    "\n",
    "# 绘制水平交错条形图\n",
    "bar_width = 0.4\n",
    "plt.bar(left = np.arange(len(Cities)), height = Counts2016, label = '2016', color = 'steelblue', width = bar_width)\n",
    "plt.bar(left = np.arange(len(Cities))+bar_width, height = Counts2017, label = '2017', color = 'indianred', width = bar_width)\n",
    "# 添加刻度标签（向右偏移0.225）\n",
    "plt.xticks(np.arange(5)+0.2, Cities)\n",
    "# 添加y轴标签\n",
    "plt.ylabel('亿万资产家庭数')\n",
    "# 添加图形标题\n",
    "plt.title('近两年5个城市亿万资产家庭数比较')\n",
    "# 添加图例\n",
    "plt.legend()\n",
    "# 显示图形\n",
    "plt.show()"
   ]
  },
  {
   "cell_type": "code",
   "execution_count": null,
   "metadata": {
    "collapsed": false
   },
   "outputs": [],
   "source": [
    "# Pandas模块之垂直或水平条形图\n",
    "# 绘图（此时的数据集在前文已经按各省GDP做过升序处理）\n",
    "GDP.GDP.plot(kind = 'bar', width = 0.8, rot = 0, color = 'steelblue', title = '2017年度6个省份GDP分布')\n",
    "# 添加y轴标签\n",
    "plt.ylabel('GDP（万亿）')\n",
    "# 添加x轴刻度标签\n",
    "plt.xticks(range(len(GDP.Province)), #指定刻度标签的位置  \n",
    "           GDP.Province # 指出具体的刻度标签值\n",
    "          )\n",
    "# 为每个条形图添加数值标签\n",
    "for x,y in enumerate(GDP.GDP):\n",
    "    plt.text(x-0.1,y+0.2,'%s' %round(y,1),va='center')\n",
    "# 显示图形\n",
    "plt.show()"
   ]
  },
  {
   "cell_type": "code",
   "execution_count": null,
   "metadata": {
    "collapsed": false
   },
   "outputs": [],
   "source": [
    "# Pandas模块之水平交错条形图\n",
    "HuRun_reshape = HuRun.pivot_table(index = 'City', columns='Year', values='Counts').reset_index()\n",
    "# 对数据集降序排序\n",
    "HuRun_reshape.sort_values(by = 2016, ascending = False, inplace = True)\n",
    "HuRun_reshape.plot(x = 'City', y = [2016,2017], kind = 'bar', color = ['steelblue', 'indianred'], \n",
    "                   rot = 0, # 用于旋转x轴刻度标签的角度，0表示水平显示刻度标签\n",
    "                   width = 0.8, title = '近两年5个城市亿万资产家庭数比较')\n",
    "# 添加y轴标签\n",
    "plt.ylabel('亿万资产家庭数')\n",
    "plt.xlabel('')\n",
    "plt.show()"
   ]
  },
  {
   "cell_type": "code",
   "execution_count": null,
   "metadata": {
    "collapsed": false
   },
   "outputs": [],
   "source": [
    "# seaborn模块之垂直或水平条形图\n",
    "# 导入第三方模块\n",
    "import seaborn as sns\n",
    "sns.barplot(y = 'Province', # 指定条形图x轴的数据\n",
    "            x = 'GDP', # 指定条形图y轴的数据\n",
    "            data = GDP, # 指定需要绘图的数据集\n",
    "            color = 'steelblue', # 指定条形图的填充色\n",
    "            orient = 'horizontal' # 将条形图水平显示\n",
    "           )\n",
    "# 重新设置x轴和y轴的标签\n",
    "plt.xlabel('GDP（万亿）')\n",
    "plt.ylabel('')\n",
    "# 添加图形的标题\n",
    "plt.title('2017年度6个省份GDP分布')\n",
    "# 为每个条形图添加数值标签\n",
    "for y,x in enumerate(GDP.GDP):\n",
    "    plt.text(x,y,'%s' %round(x,1),va='center')\n",
    "# 显示图形\n",
    "plt.show()"
   ]
  },
  {
   "cell_type": "code",
   "execution_count": null,
   "metadata": {
    "collapsed": false
   },
   "outputs": [],
   "source": [
    "# 读入数据\n",
    "Titanic = pd.read_csv(r'C:\\Users\\Administrator\\Desktop\\titanic_train.csv')\n",
    "# 绘制水平交错条形图\n",
    "sns.barplot(x = 'Pclass', # 指定x轴数据\n",
    "            y = 'Age', # 指定y轴数据\n",
    "            hue = 'Sex', # 指定分组数据\n",
    "            data = Titanic, # 指定绘图数据集\n",
    "            palette = 'RdBu', # 指定男女性别的不同颜色\n",
    "            errcolor = 'blue', # 指定误差棒的颜色\n",
    "            errwidth=2, # 指定误差棒的线宽\n",
    "            saturation = 1, # 指定颜色的透明度，这里设置为无透明度\n",
    "            capsize = 0.05 # 指定误差棒两端线条的宽度\n",
    "           )\n",
    "# 添加图形标题\n",
    "plt.title('各船舱等级中男女乘客的年龄差异')\n",
    "# 显示图形\n",
    "plt.show()"
   ]
  },
  {
   "cell_type": "code",
   "execution_count": null,
   "metadata": {
    "collapsed": false
   },
   "outputs": [],
   "source": [
    "# matplotlib模块绘制直方图\n",
    "# 检查年龄是否有缺失\n",
    "any(Titanic.Age.isnull())\n",
    "# 不妨删除含有缺失年龄的观察\n",
    "Titanic.dropna(subset=['Age'], inplace=True)\n",
    "# 绘制直方图\n",
    "plt.hist(x = Titanic.Age, # 指定绘图数据\n",
    "         bins = 20, # 指定直方图中条块的个数\n",
    "         color = 'steelblue', # 指定直方图的填充色\n",
    "         edgecolor = 'black' # 指定直方图的边框色\n",
    "         )\n",
    "# 添加x轴和y轴标签\n",
    "plt.xlabel('年龄')\n",
    "plt.ylabel('频数')\n",
    "# 添加标题\n",
    "plt.title('乘客年龄分布')\n",
    "# 显示图形\n",
    "plt.show()"
   ]
  },
  {
   "cell_type": "code",
   "execution_count": null,
   "metadata": {
    "collapsed": false
   },
   "outputs": [],
   "source": [
    "# Pandas模块绘制直方图和核密度图\n",
    "# 绘制直方图\n",
    "Titanic.Age.plot(kind = 'hist', bins = 20, color = 'steelblue', edgecolor = 'black', normed = True, label = '直方图')\n",
    "# 绘制核密度图\n",
    "Titanic.Age.plot(kind = 'kde', color = 'red', label = '核密度图')\n",
    "# 添加x轴和y轴标签\n",
    "plt.xlabel('年龄')\n",
    "plt.ylabel('核密度值')\n",
    "# 添加标题\n",
    "plt.title('乘客年龄分布')\n",
    "# 显示图例\n",
    "plt.legend()\n",
    "# 显示图形\n",
    "plt.show()"
   ]
  },
  {
   "cell_type": "code",
   "execution_count": null,
   "metadata": {
    "collapsed": false
   },
   "outputs": [],
   "source": [
    "# seaborn模块绘制分组的直方图和核密度图\n",
    "# 取出男性年龄\n",
    "Age_Male = Titanic.Age[Titanic.Sex == 'male']\n",
    "# 取出女性年龄\n",
    "Age_Female = Titanic.Age[Titanic.Sex == 'female']\n",
    "\n",
    "# 绘制男女乘客年龄的直方图\n",
    "sns.distplot(Age_Male, bins = 20, kde = False, hist_kws = {'color':'steelblue'}, label = '男性')\n",
    "# 绘制女性年龄的直方图\n",
    "sns.distplot(Age_Female, bins = 20, kde = False, hist_kws = {'color':'purple'}, label = '女性')\n",
    "plt.title('男女乘客的年龄直方图')\n",
    "# 显示图例\n",
    "plt.legend()\n",
    "# 显示图形\n",
    "plt.show()\n",
    "\n",
    "# 绘制男女乘客年龄的核密度图\n",
    "sns.distplot(Age_Male, hist = False, kde_kws = {'color':'red', 'linestyle':'-'}, \n",
    "             norm_hist = True, label = '男性')\n",
    "# 绘制女性年龄的核密度图\n",
    "sns.distplot(Age_Female, hist = False, kde_kws = {'color':'black', 'linestyle':'--'}, \n",
    "             norm_hist = True, label = '女性')\n",
    "plt.title('男女乘客的年龄核密度图')\n",
    "# 显示图例\n",
    "plt.legend()\n",
    "# 显示图形\n",
    "plt.show()"
   ]
  },
  {
   "cell_type": "code",
   "execution_count": null,
   "metadata": {
    "collapsed": true
   },
   "outputs": [],
   "source": [
    "# 读取数据\n",
    "Sec_Buildings = pd.read_excel(r'C:\\Users\\Administrator\\Desktop\\sec_buildings.xlsx')\n",
    "# 绘制箱线图\n",
    "plt.boxplot(x = Sec_Buildings.price_unit, # 指定绘图数据\n",
    "            patch_artist=True, # 要求用自定义颜色填充盒形图，默认白色填充\n",
    "            showmeans=True, # 以点的形式显示均值\n",
    "            boxprops = {'color':'black','facecolor':'steelblue'}, # 设置箱体属性，如边框色和填充色\n",
    "            # 设置异常点属性，如点的形状、填充色和点的大小\n",
    "            flierprops = {'marker':'o','markerfacecolor':'red', 'markersize':3}, \n",
    "            # 设置均值点的属性，如点的形状、填充色和点的大小\n",
    "            meanprops = {'marker':'D','markerfacecolor':'indianred', 'markersize':4}, \n",
    "            # 设置中位数线的属性，如线的类型和颜色\n",
    "            medianprops = {'linestyle':'--','color':'orange'}, \n",
    "            labels = [''] # 删除x轴的刻度标签，否则图形显示刻度标签为1\n",
    "           )\n",
    "# 添加图形标题\n",
    "plt.title('二手房单价分布的箱线图')\n",
    "# 显示图形\n",
    "plt.show()"
   ]
  },
  {
   "cell_type": "code",
   "execution_count": null,
   "metadata": {
    "collapsed": false
   },
   "outputs": [],
   "source": [
    "# 二手房在各行政区域的平均单价\n",
    "group_region = Sec_Buildings.groupby('region')\n",
    "avg_price = group_region.aggregate({'price_unit':np.mean}).sort_values('price_unit', ascending = False)\n",
    "\n",
    "# 通过循环，将不同行政区域的二手房存储到列表中\n",
    "region_price = []\n",
    "for region in avg_price.index:\n",
    "    region_price.append(Sec_Buildings.price_unit[Sec_Buildings.region == region])\n",
    "# 绘制分组箱线图\n",
    "plt.boxplot(x = region_price, \n",
    "            patch_artist=True,\n",
    "            labels = avg_price.index, # 添加x轴的刻度标签\n",
    "            showmeans=True, \n",
    "            boxprops = {'color':'black', 'facecolor':'steelblue'}, \n",
    "            flierprops = {'marker':'o','markerfacecolor':'red', 'markersize':3}, \n",
    "            meanprops = {'marker':'D','markerfacecolor':'indianred', 'markersize':4},\n",
    "            medianprops = {'linestyle':'--','color':'orange'}\n",
    "           )\n",
    "# 添加y轴标签\n",
    "plt.ylabel('单价（元）')\n",
    "# 添加标题\n",
    "plt.title('不同行政区域的二手房单价对比')\n",
    "# 显示图形\n",
    "plt.show()"
   ]
  },
  {
   "cell_type": "code",
   "execution_count": null,
   "metadata": {
    "collapsed": false
   },
   "outputs": [],
   "source": [
    "# 绘制分组箱线图\n",
    "sns.boxplot(x = 'region', y = 'price_unit', data = Sec_Buildings, \n",
    "            order = avg_price.index, showmeans=True,color = 'steelblue',\n",
    "            flierprops = {'marker':'o','markerfacecolor':'red', 'markersize':3}, \n",
    "            meanprops = {'marker':'D','markerfacecolor':'indianred', 'markersize':4},\n",
    "            medianprops = {'linestyle':'--','color':'orange'}\n",
    "           )\n",
    "# 更改x轴和y轴标签\n",
    "plt.xlabel('')\n",
    "plt.ylabel('单价（元）')\n",
    "# 添加标题\n",
    "plt.title('不同行政区域的二手房单价对比')\n",
    "# 显示图形\n",
    "plt.show()"
   ]
  },
  {
   "cell_type": "code",
   "execution_count": null,
   "metadata": {
    "collapsed": false
   },
   "outputs": [],
   "source": [
    "# 读取数据\n",
    "tips = pd.read_csv(r'C:\\Users\\Administrator\\Desktop\\tips.csv')\n",
    "# 绘制分组小提琴图\n",
    "sns.violinplot(x = \"total_bill\", # 指定x轴的数据\n",
    "               y = \"day\", # 指定y轴的数据\n",
    "               hue = \"sex\", # 指定分组变量\n",
    "               data = tips, # 指定绘图的数据集\n",
    "               order = ['Thur','Fri','Sat','Sun'], # 指定x轴刻度标签的顺序\n",
    "               scale = 'count', # 以男女客户数调节小提琴图左右的宽度\n",
    "               split = True, # 将小提琴图从中间割裂开，形成不同的密度曲线；\n",
    "               palette = 'RdBu' # 指定不同性别对应的颜色（因为hue参数为设置为性别变量）\n",
    "              )\n",
    "# 添加图形标题\n",
    "plt.title('每天不同性别客户的消费额情况')\n",
    "# 设置图例\n",
    "plt.legend(loc = 'upper center', ncol = 2)\n",
    "# 显示图形\n",
    "plt.show()"
   ]
  },
  {
   "cell_type": "code",
   "execution_count": null,
   "metadata": {
    "collapsed": false
   },
   "outputs": [],
   "source": [
    "# 数据读取\n",
    "wechat = pd.read_excel(r'C:\\Users\\Administrator\\Desktop\\wechat.xlsx')\n",
    "# 绘制单条折线图\n",
    "plt.plot(wechat.Date, # x轴数据\n",
    "         wechat.Counts, # y轴数据\n",
    "         linestyle = '-', # 折线类型\n",
    "         linewidth = 2, # 折线宽度\n",
    "         color = 'steelblue', # 折线颜色\n",
    "         marker = 'o', # 折线图中添加圆点\n",
    "         markersize = 6, # 点的大小\n",
    "         markeredgecolor='black', # 点的边框色\n",
    "         markerfacecolor='brown') # 点的填充色\n",
    "# 添加y轴标签\n",
    "plt.ylabel('人数')\n",
    "# 添加图形标题\n",
    "plt.title('每天微信文章阅读人数趋势')\n",
    "# 显示图形\n",
    "plt.show()"
   ]
  },
  {
   "cell_type": "code",
   "execution_count": null,
   "metadata": {
    "collapsed": false
   },
   "outputs": [],
   "source": [
    "# 绘制两条折线图\n",
    "# 导入模块，用于日期刻度的修改\n",
    "import matplotlib as mpl\n",
    "# 绘制阅读人数折线图\n",
    "plt.plot(wechat.Date, # x轴数据\n",
    "         wechat.Counts, # y轴数据\n",
    "         linestyle = '-', # 折线类型，实心线\n",
    "         color = 'steelblue', # 折线颜色\n",
    "         label = '阅读人数'\n",
    "         )\n",
    "# 绘制阅读人次折线图\n",
    "plt.plot(wechat.Date, # x轴数据\n",
    "         wechat.Times, # y轴数据\n",
    "         linestyle = '--', # 折线类型，虚线\n",
    "         color = 'indianred', # 折线颜色\n",
    "         label = '阅读人次'\n",
    "         )\n",
    "\n",
    "# 获取图的坐标信息\n",
    "ax = plt.gca()\n",
    "# 设置日期的显示格式  \n",
    "date_format = mpl.dates.DateFormatter(\"%m-%d\")  \n",
    "ax.xaxis.set_major_formatter(date_format) \n",
    "# 设置x轴显示多少个日期刻度\n",
    "# xlocator = mpl.ticker.LinearLocator(10)\n",
    "# 设置x轴每个刻度的间隔天数\n",
    "xlocator = mpl.ticker.MultipleLocator(7)\n",
    "ax.xaxis.set_major_locator(xlocator)\n",
    "# 为了避免x轴刻度标签的紧凑，将刻度标签旋转45度\n",
    "plt.xticks(rotation=45)\n",
    "\n",
    "# 添加y轴标签\n",
    "plt.ylabel('人数')\n",
    "# 添加图形标题\n",
    "plt.title('每天微信文章阅读人数与人次趋势')\n",
    "# 添加图例\n",
    "plt.legend()\n",
    "# 显示图形\n",
    "plt.show()"
   ]
  },
  {
   "cell_type": "code",
   "execution_count": null,
   "metadata": {
    "collapsed": false
   },
   "outputs": [],
   "source": [
    "# 读取天气数据\n",
    "weather = pd.read_excel(r'C:\\Users\\Administrator\\Desktop\\weather.xlsx')\n",
    "# 统计每月的平均最高气温\n",
    "data = weather.pivot_table(index = 'month', columns='year', values='high')\n",
    "# 绘制折线图\n",
    "data.plot(kind = 'line', \n",
    "          style = ['-','--',':'] # 设置折线图的线条类型\n",
    "         )\n",
    "# 修改x轴和y轴标签\n",
    "plt.xlabel('月份')\n",
    "plt.ylabel('气温')\n",
    "# 添加图形标题\n",
    "plt.title('每月平均最高气温波动趋势')\n",
    "# 显示图形\n",
    "plt.show()"
   ]
  },
  {
   "cell_type": "code",
   "execution_count": null,
   "metadata": {
    "collapsed": false
   },
   "outputs": [],
   "source": [
    "# 读入数据\n",
    "iris = pd.read_csv(r'C:\\Users\\Administrator\\Desktop\\iris.csv')\n",
    "# 绘制散点图\n",
    "plt.scatter(x = iris.Petal_Width, # 指定散点图的x轴数据\n",
    "            y = iris.Petal_Length, # 指定散点图的y轴数据\n",
    "            color = 'steelblue' # 指定散点图中点的颜色\n",
    "           )\n",
    "# 添加x轴和y轴标签\n",
    "plt.xlabel('花瓣宽度')\n",
    "plt.ylabel('花瓣长度')\n",
    "# 添加标题\n",
    "plt.title('鸢尾花的花瓣宽度与长度关系')\n",
    "# 显示图形\n",
    "plt.show()"
   ]
  },
  {
   "cell_type": "code",
   "execution_count": null,
   "metadata": {
    "collapsed": false
   },
   "outputs": [],
   "source": [
    "# Pandas模块绘制散点图\n",
    "# 绘制散点图\n",
    "iris.plot(x = 'Petal_Width', y = 'Petal_Length', kind = 'scatter', title = '鸢尾花的花瓣宽度与长度关系')\n",
    "# 修改x轴和y轴标签\n",
    "plt.xlabel('花瓣宽度')\n",
    "plt.ylabel('花瓣长度')\n",
    "# 显示图形\n",
    "plt.show()"
   ]
  },
  {
   "cell_type": "code",
   "execution_count": null,
   "metadata": {
    "collapsed": false
   },
   "outputs": [],
   "source": [
    "# seaborn模块绘制分组散点图\n",
    "sns.lmplot(x = 'Petal_Width', # 指定x轴变量\n",
    "           y = 'Petal_Length', # 指定y轴变量\n",
    "           hue = 'Species', # 指定分组变量\n",
    "           data = iris, # 指定绘图数据集\n",
    "           legend_out = False, # 将图例呈现在图框内\n",
    "           truncate=True # 根据实际的数据范围，对拟合线作截断操作\n",
    "          )\n",
    "# 修改x轴和y轴标签\n",
    "plt.xlabel('花瓣宽度')\n",
    "plt.ylabel('花瓣长度')\n",
    "# 添加标题\n",
    "plt.title('鸢尾花的花瓣宽度与长度关系')\n",
    "# 显示图形\n",
    "plt.show()"
   ]
  },
  {
   "cell_type": "code",
   "execution_count": null,
   "metadata": {
    "collapsed": false
   },
   "outputs": [],
   "source": [
    "# 读取数据\n",
    "Prod_Category = pd.read_excel(r'C:\\Users\\Administrator\\Desktop\\SuperMarket.xlsx')\n",
    "# 将利润率标准化到[0,1]之间（因为利润率中有负数），然后加上微小的数值0.001\n",
    "range_diff = Prod_Category.Profit_Ratio.max()-Prod_Category.Profit_Ratio.min()\n",
    "Prod_Category['std_ratio'] = (Prod_Category.Profit_Ratio-Prod_Category.Profit_Ratio.min())/range_diff + 0.001\n",
    "\n",
    "# 绘制办公用品的气泡图\n",
    "plt.scatter(x = Prod_Category.Sales[Prod_Category.Category == '办公用品'], \n",
    "           y = Prod_Category.Profit[Prod_Category.Category == '办公用品'], \n",
    "           s = Prod_Category.std_ratio[Prod_Category.Category == '办公用品']*1000,\n",
    "           color = 'steelblue', label = '办公用品', alpha = 0.6\n",
    "            )\n",
    "# 绘制技术产品的气泡图\n",
    "plt.scatter(x = Prod_Category.Sales[Prod_Category.Category == '技术产品'], \n",
    "           y = Prod_Category.Profit[Prod_Category.Category == '技术产品'], \n",
    "           s = Prod_Category.std_ratio[Prod_Category.Category == '技术产品']*1000,\n",
    "           color = 'indianred' , label = '技术产品', alpha = 0.6\n",
    "          )\n",
    "# 绘制家具产品的气泡图\n",
    "plt.scatter(x = Prod_Category.Sales[Prod_Category.Category == '家具产品'], \n",
    "           y = Prod_Category.Profit[Prod_Category.Category == '家具产品'], \n",
    "           s = Prod_Category.std_ratio[Prod_Category.Category == '家具产品']*1000,\n",
    "           color = 'black' , label = '家具产品', alpha = 0.6\n",
    "          )\n",
    "# 添加x轴和y轴标签\n",
    "plt.xlabel('销售额')\n",
    "plt.ylabel('利润')\n",
    "# 添加标题\n",
    "plt.title('销售额、利润及利润率的气泡图')\n",
    "# 添加图例\n",
    "plt.legend()\n",
    "# 显示图形\n",
    "plt.show()"
   ]
  },
  {
   "cell_type": "code",
   "execution_count": null,
   "metadata": {
    "collapsed": false
   },
   "outputs": [],
   "source": [
    "# 读取数据\n",
    "Sales = pd.read_excel(r'C:\\Users\\Administrator\\Desktop\\Sales.xlsx')\n",
    "# 根据交易日期，衍生出年份和月份字段\n",
    "Sales['year'] = Sales.Date.dt.year\n",
    "Sales['month'] = Sales.Date.dt.month\n",
    "# 统计每年各月份的销售总额\n",
    "Summary = Sales.pivot_table(index = 'month', columns = 'year', values = 'Sales', aggfunc = np.sum)\n",
    "\n",
    "# 绘制热力图\n",
    "sns.heatmap(data = Summary, # 指定绘图数据\n",
    "            cmap = 'PuBuGn', # 指定填充色\n",
    "            linewidths = .1, # 设置每个单元格边框的宽度\n",
    "            annot = True, # 显示数值\n",
    "            fmt = '.1e' # 以科学计算法显示数据\n",
    "            )\n",
    "#添加标题\n",
    "plt.title('每年各月份销售总额热力图')\n",
    "# 显示图形\n",
    "plt.show()"
   ]
  },
  {
   "cell_type": "code",
   "execution_count": null,
   "metadata": {
    "collapsed": false
   },
   "outputs": [],
   "source": [
    "# 读取数据\n",
    "Prod_Trade = pd.read_excel(r'C:\\Users\\Administrator\\Desktop\\Prod_Trade.xlsx')\n",
    "# 衍生出交易年份和月份字段\n",
    "Prod_Trade['year'] = Prod_Trade.Date.dt.year\n",
    "Prod_Trade['month'] = Prod_Trade.Date.dt.month\n",
    "\n",
    "# 设置大图框的长和高\n",
    "plt.figure(figsize = (12,6))\n",
    "# 设置第一个子图的布局\n",
    "ax1 = plt.subplot2grid(shape = (2,3), loc = (0,0))\n",
    "# 统计2012年各订单等级的数量\n",
    "Class_Counts = Prod_Trade.Order_Class[Prod_Trade.year == 2012].value_counts()\n",
    "Class_Percent = Class_Counts/Class_Counts.sum()\n",
    "# 将饼图设置为圆形（否则有点像椭圆）\n",
    "ax1.set_aspect(aspect = 'equal')\n",
    "# 绘制订单等级饼图\n",
    "ax1.pie(x = Class_Percent.values, labels = Class_Percent.index, autopct = '%.1f%%')\n",
    "# 添加标题\n",
    "ax1.set_title('各等级订单比例')\n",
    "\n",
    "# 设置第二个子图的布局\n",
    "ax2 = plt.subplot2grid(shape = (2,3), loc = (0,1))\n",
    "# 统计2012年每月销售额\n",
    "Month_Sales = Prod_Trade[Prod_Trade.year == 2012].groupby(by = 'month').aggregate({'Sales':np.sum})\n",
    "# 绘制销售额趋势图\n",
    "Month_Sales.plot(title = '2012年各月销售趋势', ax = ax2, legend = False)\n",
    "# 删除x轴标签\n",
    "ax2.set_xlabel('')\n",
    "\n",
    "# 设置第三个子图的布局\n",
    "ax3 = plt.subplot2grid(shape = (2,3), loc = (0,2), rowspan = 2)\n",
    "# 绘制各运输方式的成本箱线图\n",
    "sns.boxplot(x = 'Transport', y = 'Trans_Cost', data = Prod_Trade, ax = ax3)\n",
    "# 添加标题\n",
    "ax3.set_title('各运输方式成本分布')\n",
    "# 删除x轴标签\n",
    "ax3.set_xlabel('')\n",
    "# 修改y轴标签\n",
    "ax3.set_ylabel('运输成本')\n",
    "\n",
    "# 设置第四个子图的布局\n",
    "ax4 = plt.subplot2grid(shape = (2,3), loc = (1,0), colspan = 2)\n",
    "# 2012年客单价分布直方图\n",
    "sns.distplot(Prod_Trade.Sales[Prod_Trade.year == 2012], bins = 40, norm_hist = True, ax = ax4, hist_kws = {'color':'steelblue'}, kde_kws=({'linestyle':'--', 'color':'red'}))\n",
    "# 添加标题\n",
    "ax4.set_title('2012年客单价分布图')\n",
    "# 修改x轴标签\n",
    "ax4.set_xlabel('销售额')\n",
    "\n",
    "# 调整子图之间的水平间距和高度间距\n",
    "plt.subplots_adjust(hspace=0.6, wspace=0.3)\n",
    "# 图形显示\n",
    "plt.show()"
   ]
  }
 ],
 "metadata": {
  "kernelspec": {
   "display_name": "Python [Root]",
   "language": "python",
   "name": "Python [Root]"
  },
  "language_info": {
   "codemirror_mode": {
    "name": "ipython",
    "version": 3
   },
   "file_extension": ".py",
   "mimetype": "text/x-python",
   "name": "python",
   "nbconvert_exporter": "python",
   "pygments_lexer": "ipython3",
   "version": "3.5.2"
  }
 },
 "nbformat": 4,
 "nbformat_minor": 0
}
